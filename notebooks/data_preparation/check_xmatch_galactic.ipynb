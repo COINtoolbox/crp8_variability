{
 "cells": [
  {
   "cell_type": "code",
   "execution_count": 2,
   "id": "5e147824-f855-47c4-b326-c18880008991",
   "metadata": {},
   "outputs": [],
   "source": [
    "# Created by Emille Ishida on 03/09/2025\n",
    "# modified by Phelipe Darc on 04/09/2025"
   ]
  },
  {
   "cell_type": "code",
   "execution_count": 2,
   "id": "353fc3dd-e4be-4c21-9494-3cd52d2fd68a",
   "metadata": {},
   "outputs": [],
   "source": [
    "import pandas as pd\n",
    "import numpy as np\n",
    "import matplotlib.pylab as plt\n",
    "from copy import deepcopy\n",
    "from collections import Counter"
   ]
  },
  {
   "cell_type": "markdown",
   "id": "f7498dfb-5648-4519-a1ee-b49fd963e6b2",
   "metadata": {},
   "source": [
    "# [Data Import] Galactic crossmatch catalog"
   ]
  },
  {
   "cell_type": "code",
   "execution_count": 3,
   "id": "0e0b29f6-61e0-4ac1-94bc-c37875168e8a",
   "metadata": {},
   "outputs": [],
   "source": [
    "# read results of xmatch\n",
    "data = pd.read_parquet('/media3/CRP8/TDE/data/xmatch/galactic/')"
   ]
  },
  {
   "cell_type": "code",
   "execution_count": 4,
   "id": "d128ca81-daa5-4b66-afc6-df04a90b50a1",
   "metadata": {},
   "outputs": [
    {
     "data": {
      "text/plain": [
       "(3295444, 10)"
      ]
     },
     "execution_count": 4,
     "metadata": {},
     "output_type": "execute_result"
    }
   ],
   "source": [
    "data.shape"
   ]
  },
  {
   "cell_type": "code",
   "execution_count": 5,
   "id": "bd708ee7-e159-4948-a45b-dbda4646174e",
   "metadata": {},
   "outputs": [
    {
     "data": {
      "text/plain": [
       "array(['**', '**_Candidate', 'AGB*', 'AGB*_Candidate', 'AGN',\n",
       "       'AGN_Candidate', 'Ae*', 'Ae*_Candidate', 'Assoc*', 'BClG', 'BLLac',\n",
       "       'BSS_Candidate', 'BYDra', 'BYDraV*', 'Be*', 'Be*_Candidate',\n",
       "       'Blazar', 'Blend', 'Blue', 'BlueStraggler',\n",
       "       'BlueStraggler_Candidate', 'Bubble', 'C*', 'C*_Candidate',\n",
       "       'CV*_Candidate', 'Candidate_AGB*', 'Candidate_Ae*', 'Candidate_C*',\n",
       "       'Candidate_CV*', 'Candidate_Cepheid', 'Candidate_EB*',\n",
       "       'Candidate_HB*', 'Candidate_LP*', 'Candidate_RGB*',\n",
       "       'Candidate_RRLyr', 'Candidate_TTau*', 'Candidate_WD*',\n",
       "       'Candidate_YSO', 'Candidate_brownD*', 'Candidate_low-mass*',\n",
       "       'CataclyV*', 'CataclyV*_Candidate', 'Cepheid', 'Cepheid_Candidate',\n",
       "       'ChemPec*', 'Cl*', 'ClG', 'ClassicalCep', 'Cloud', 'Compact_Gr_G',\n",
       "       'DkNeb', 'EB*', 'EB*_Candidate', 'EclBin', 'EclBin_Candidate',\n",
       "       'El*_Candidate', 'EllipVar', 'Em*', 'EmG', 'EmLine*', 'EmObj',\n",
       "       'Eruptive*', 'FIR', 'GinCl', 'GinGroup', 'GlCl', 'GlCl?_Candidate',\n",
       "       'GroupG', 'HB*', 'HB*_Candidate', 'HH', 'HII', 'HIshell',\n",
       "       'HighPM*', 'HorBranch*', 'HorBranch*_Candidate', 'HotSubdwarf',\n",
       "       'HotSubdwarf_Candidate', 'Hsd_Candidate', 'IR', 'ISM', 'Infrared',\n",
       "       'IrregularV*', 'Irregular_V*', 'LINER', 'LP*_Candidate', 'LPV*',\n",
       "       'LSB_G', 'LongPeriodV*', 'LongPeriodV*_Candida',\n",
       "       'LongPeriodV*_Candidate', 'Low-Mass*', 'MIR', 'Maser',\n",
       "       'Microlensing candidate', 'MidIR', 'Mira', 'MolCld', 'NIR',\n",
       "       'NearIR', 'Nova', 'OpCl', 'OpenCluster', 'OrionV*', 'Orion_V*',\n",
       "       'PM*', 'PN', 'PN?', 'PN?_Candidate', 'PairG', 'PartofCloud',\n",
       "       'Pec*', 'Planet', 'Planet?', 'Planet?_Candidate',\n",
       "       'Planet_Candidate', 'PlanetaryNeb_Candida',\n",
       "       'PlanetaryNeb_Candidate', 'PulsV*', 'PulsV*RVTau', 'PulsV*WVir',\n",
       "       'PulsV*bCep', 'PulsV*delSct', 'QSO', 'QSO_Candidate', 'RGB*',\n",
       "       'RGB*_Candidate', 'RRLyr', 'RRLyr_Candidate', 'RRLyrae',\n",
       "       'RRLyrae_Candidate', 'RSCVn', 'RSCVnV*', 'RVTauV*', 'Radio',\n",
       "       'Radio(cm)', 'Radio(mm)', 'Radio(sub-mm)', 'RedSG*', 'RefNeb',\n",
       "       'Region', 'RfNeb', 'RotV*', 'RotV*alf2CVn', 'S*', 'S*_Candidate',\n",
       "       'SB*', 'SB*_Candidate', 'SN', 'SN candidate', 'SXPheV*',\n",
       "       'Seyfert1', 'Seyfert_1', 'Seyfert_2', 'Solar System MPC',\n",
       "       'Solar System candidate', 'Star', 'TTau*', 'TTau*_Candidate',\n",
       "       'TTauri*', 'TTauri*_Candidate', 'Type2Cep', 'UV', 'Unknown',\n",
       "       'Unknown_Candidate', 'V*', 'V*?', 'V*?_Candidate', 'Variable*',\n",
       "       'WD*', 'WD*_Candidate', 'WR*', 'WhiteDwarf_Candidate',\n",
       "       'WolfRayet*', 'X', 'XB', 'XrayBin', 'YSO', 'YSO_Candidate',\n",
       "       'alf2CVnV*', 'blue', 'brownD*', 'brownD*_Candidate', 'delSctV*',\n",
       "       'deltaCep', 'denseCore', 'gamma', 'gammaBurst', 'gammaDor',\n",
       "       'gammaDorV*', 'low-mass*', 'multiple_object', 'post-AGB*',\n",
       "       'pulsV*SX'], dtype=object)"
      ]
     },
     "execution_count": 5,
     "metadata": {},
     "output_type": "execute_result"
    }
   ],
   "source": [
    "np.unique(data['finkclass'].values)"
   ]
  },
  {
   "cell_type": "code",
   "execution_count": 6,
   "id": "79d67fb3-758f-40c0-9e34-fd45804a30a3",
   "metadata": {},
   "outputs": [
    {
     "data": {
      "text/plain": [
       "(88594, 10)"
      ]
     },
     "execution_count": 6,
     "metadata": {},
     "output_type": "execute_result"
    }
   ],
   "source": [
    "data_obj = data.groupby('objectId', sort=False, as_index=False).agg(list)\n",
    "data_obj.shape"
   ]
  },
  {
   "cell_type": "code",
   "execution_count": 7,
   "id": "d56af550-1a72-4456-b8f3-5ffad90c1249",
   "metadata": {},
   "outputs": [
    {
     "data": {
      "text/plain": [
       "0        [Hunt_ReffertOCmembers_507696, Hunt_ReffertOCm...\n",
       "1        [Hunt_ReffertOCmembers_527711, Hunt_ReffertOCm...\n",
       "2        [Hunt_ReffertOCmembers_527346, Hunt_ReffertOCm...\n",
       "3        [Hunt_ReffertOCmembers_527315, Hunt_ReffertOCm...\n",
       "4        [Hunt_ReffertOCmembers_520018, Hunt_ReffertOCm...\n",
       "                               ...                        \n",
       "88589                                     [NGC_4372_11411]\n",
       "88590                                     [NGC_4372_22344]\n",
       "88591                                      [NGC_4372_3848]\n",
       "88592                                      [NGC_4372_1288]\n",
       "88593                                     [NGC_4372_29297]\n",
       "Name: cat_id, Length: 88594, dtype: object"
      ]
     },
     "execution_count": 7,
     "metadata": {},
     "output_type": "execute_result"
    }
   ],
   "source": [
    "data_obj['cat_id']"
   ]
  },
  {
   "cell_type": "code",
   "execution_count": 9,
   "id": "62cdd0a4-7465-4ad7-bdc3-3917687bc865",
   "metadata": {},
   "outputs": [],
   "source": [
    "data_obj['n_g'] = [sum(np.array(item) == 1) for item in data_obj['fid']]\n",
    "data_obj['n_r'] = [sum(np.array(item) == 2) for item in data_obj['fid']]"
   ]
  },
  {
   "cell_type": "code",
   "execution_count": 10,
   "id": "505b595b-dba0-41c7-81a8-4e70e26134d9",
   "metadata": {},
   "outputs": [
    {
     "data": {
      "image/png": "[encoded data removed]",
      "text/plain": [
       "<Figure size 640x480 with 1 Axes>"
      ]
     },
     "metadata": {},
     "output_type": "display_data"
    }
   ],
   "source": [
    "import matplotlib.pyplot as plt\n",
    "plt.hist(data_obj['n_g'], log=True, histtype='step')\n",
    "plt.hist(data_obj['n_r'], log=True, histtype='step')\n",
    "plt.show()"
   ]
  },
  {
   "cell_type": "markdown",
   "id": "776f492a-be61-460b-9083-bf810cfe4a1a",
   "metadata": {},
   "source": [
    "# [cut1] keep only light curves with a minimum of 3 points \n",
    "(less than that it is a straight line)"
   ]
  },
  {
   "cell_type": "code",
   "execution_count": 11,
   "id": "33a245f6-76f0-4ab9-87a0-9003b0f5bfe8",
   "metadata": {},
   "outputs": [],
   "source": [
    "flag_points = np.logical_or(data_obj['n_g'] > 3, data_obj['n_r'] > 3)\n",
    "data_use = data_obj[flag_points]"
   ]
  },
  {
   "cell_type": "code",
   "execution_count": 12,
   "id": "32a76a91-497a-460f-9bbc-b195adc79b46",
   "metadata": {},
   "outputs": [
    {
     "data": {
      "text/plain": [
       "((40886, 12), (88594, 12))"
      ]
     },
     "execution_count": 12,
     "metadata": {},
     "output_type": "execute_result"
    }
   ],
   "source": [
    "data_use.shape, data_obj.shape"
   ]
  },
  {
   "cell_type": "code",
   "execution_count": 13,
   "id": "815700c6-083f-45da-bdfd-663cdf333a1c",
   "metadata": {},
   "outputs": [
    {
     "data": {
      "image/png": "[encoded data removed]",
      "text/plain": [
       "<Figure size 640x480 with 1 Axes>"
      ]
     },
     "metadata": {},
     "output_type": "display_data"
    }
   ],
   "source": [
    "plt.hist(data_use['n_g'], log=True, histtype='step',label='n_g')\n",
    "plt.hist(data_use['n_r'], log=True, histtype='step',label='n_r')\n",
    "plt.xlabel('Number of observations')\n",
    "plt.show()"
   ]
  },
  {
   "cell_type": "code",
   "execution_count": 14,
   "id": "73434647-2d64-4302-a6be-de6434b78d24",
   "metadata": {},
   "outputs": [],
   "source": [
    "classes = np.unique(data['finkclass'].values)\n",
    "\n",
    "data_use2 = deepcopy(data_use)\n",
    "data_use2['top_class'] = [np.unique(data_use['finkclass'].values[i]) for i in range(data_use.shape[0])]\n",
    "\n",
    "# average position\n",
    "data_use2['mean_ra'] = [np.mean(data_use.iloc[i]['ra']) for i in range(data_use.shape[0])]\n",
    "data_use2['mean_dec'] = [np.mean(data_use.iloc[i]['dec']) for i in range(data_use.shape[0])]"
   ]
  },
  {
   "cell_type": "code",
   "execution_count": 15,
   "id": "76acb660-61a9-46f9-b184-b2076553c099",
   "metadata": {},
   "outputs": [],
   "source": [
    "#data_use2[['objectId', 'mean_ra', 'mean_dec']].to_csv('galactic_find_DR_photometry.csv', index=False)"
   ]
  },
  {
   "cell_type": "markdown",
   "id": "1095b8cc-176b-43f6-b5f1-c9fde9eb4843",
   "metadata": {},
   "source": [
    "### [CUT 02] Apply the 3/2σ cut for each object"
   ]
  },
  {
   "cell_type": "code",
   "execution_count": 18,
   "id": "34408ba3-4ed3-475c-b990-61bbb337ab3e",
   "metadata": {
    "scrolled": true
   },
   "outputs": [
    {
     "data": {
      "text/html": [
       "<div>\n",
       "<style scoped>\n",
       "    .dataframe tbody tr th:only-of-type {\n",
       "        vertical-align: middle;\n",
       "    }\n",
       "\n",
       "    .dataframe tbody tr th {\n",
       "        vertical-align: top;\n",
       "    }\n",
       "\n",
       "    .dataframe thead th {\n",
       "        text-align: right;\n",
       "    }\n",
       "</style>\n",
       "<table border=\"1\" class=\"dataframe\">\n",
       "  <thead>\n",
       "    <tr style=\"text-align: right;\">\n",
       "      <th></th>\n",
       "      <th>objectId</th>\n",
       "      <th>finkclass</th>\n",
       "      <th>candid</th>\n",
       "      <th>dec</th>\n",
       "      <th>fid</th>\n",
       "      <th>jd</th>\n",
       "      <th>ra</th>\n",
       "      <th>sigmapsf</th>\n",
       "      <th>magpsf</th>\n",
       "      <th>cat_id</th>\n",
       "      <th>n_g</th>\n",
       "      <th>n_r</th>\n",
       "    </tr>\n",
       "  </thead>\n",
       "  <tbody>\n",
       "    <tr>\n",
       "      <th>0</th>\n",
       "      <td>ZTF18aabvmsf</td>\n",
       "      <td>[RRLyr, RRLyr, RRLyr, RRLyr, RRLyr, RRLyr, RRL...</td>\n",
       "      <td>[1604295091715010000, 1542359651715010000, 120...</td>\n",
       "      <td>[18.8299791, 18.8299247, 18.8299635, 18.829948...</td>\n",
       "      <td>[2.0, 2.0, 2.0, 1.0, 1.0, 1.0, 1.0, 1.0, 1.0, ...</td>\n",
       "      <td>[2459358.7950926, 2459296.8596528, 2458955.783...</td>\n",
       "      <td>[182.8329942, 182.8330448, 182.833049, 182.833...</td>\n",
       "      <td>[0.06257119029760361, 0.06367256492376328, 0.0...</td>\n",
       "      <td>[18.127302169799805, 18.14103889465332, 17.997...</td>\n",
       "      <td>[Hunt_ReffertOCmembers_507696, Hunt_ReffertOCm...</td>\n",
       "      <td>248</td>\n",
       "      <td>184</td>\n",
       "    </tr>\n",
       "    <tr>\n",
       "      <th>1</th>\n",
       "      <td>ZTF18aaajkrz</td>\n",
       "      <td>[RRLyr, RRLyr, RRLyr, RRLyr, RRLyr, RRLyr, RRL...</td>\n",
       "      <td>[1516371492915010045, 1970254601615015022, 129...</td>\n",
       "      <td>[18.2771514, 18.2771769, 18.2771373, 18.277069...</td>\n",
       "      <td>[2.0, 2.0, 1.0, 2.0, 2.0, 2.0, 2.0, 1.0, 2.0, ...</td>\n",
       "      <td>[2459270.8714931, 2459724.7546065, 2459045.737...</td>\n",
       "      <td>[198.1754886, 198.1755048, 198.175503, 198.175...</td>\n",
       "      <td>[0.11345422267913818, 0.048118770122528076, 0....</td>\n",
       "      <td>[18.365882873535156, 18.065889358520508, 17.12...</td>\n",
       "      <td>[Hunt_ReffertOCmembers_527711, Hunt_ReffertOCm...</td>\n",
       "      <td>566</td>\n",
       "      <td>656</td>\n",
       "    </tr>\n",
       "    <tr>\n",
       "      <th>2</th>\n",
       "      <td>ZTF18abciamu</td>\n",
       "      <td>[RRLyr, RRLyr, RRLyr, RRLyr, RRLyr, RRLyr, RRL...</td>\n",
       "      <td>[1970254601615010031, 1970290892915015019, 214...</td>\n",
       "      <td>[18.1916857, 18.1916508, 18.1916362, 18.191700...</td>\n",
       "      <td>[2.0, 2.0, 2.0, 1.0, 2.0, 1.0, 2.0, 2.0, 1.0, ...</td>\n",
       "      <td>[2459724.7546065, 2459724.7908912, 2459902.040...</td>\n",
       "      <td>[198.2535862, 198.2536183, 198.2536053, 198.25...</td>\n",
       "      <td>[0.10316372662782669, 0.04734647274017334, 0.1...</td>\n",
       "      <td>[19.305889129638672, 17.52899169921875, 18.880...</td>\n",
       "      <td>[Hunt_ReffertOCmembers_527346, Hunt_ReffertOCm...</td>\n",
       "      <td>634</td>\n",
       "      <td>706</td>\n",
       "    </tr>\n",
       "    <tr>\n",
       "      <th>3</th>\n",
       "      <td>ZTF18aaaolyr</td>\n",
       "      <td>[RRLyr, RRLyr, RRLyr, RRLyr, RRLyr, RRLyr, RRL...</td>\n",
       "      <td>[1970254601615010028, 1607352082915015011, 154...</td>\n",
       "      <td>[18.1856755, 18.1856581, 18.1857155, 18.185652...</td>\n",
       "      <td>[2.0, 2.0, 1.0, 2.0, 1.0, 2.0, 1.0, 2.0, 2.0, ...</td>\n",
       "      <td>[2459724.7546065, 2459361.8520833, 2459297.799...</td>\n",
       "      <td>[198.236446, 198.2365237, 198.2365907, 198.236...</td>\n",
       "      <td>[0.0762750580906868, 0.09402015060186386, 0.14...</td>\n",
       "      <td>[18.440797805786133, 17.691665649414062, 18.60...</td>\n",
       "      <td>[Hunt_ReffertOCmembers_527315, Hunt_ReffertOCm...</td>\n",
       "      <td>276</td>\n",
       "      <td>318</td>\n",
       "    </tr>\n",
       "    <tr>\n",
       "      <th>4</th>\n",
       "      <td>ZTF19aateulj</td>\n",
       "      <td>[RRLyr, RRLyr, RRLyr, RRLyr, RRLyr, RRLyr, RRL...</td>\n",
       "      <td>[1970250811215015004, 1210335341215010003, 154...</td>\n",
       "      <td>[-26.6395873, -26.6396974, -26.6396431, -26.63...</td>\n",
       "      <td>[2.0, 1.0, 2.0, 1.0, 1.0, 1.0, 2.0, 1.0, 1.0, ...</td>\n",
       "      <td>[2459724.7508102, 2458964.8353472, 2459300.904...</td>\n",
       "      <td>[189.8850989, 189.8849567, 189.8848189, 189.88...</td>\n",
       "      <td>[0.06209499016404152, 0.05028872191905975, 0.1...</td>\n",
       "      <td>[16.60594367980957, 17.20988655090332, 17.2938...</td>\n",
       "      <td>[Hunt_ReffertOCmembers_520018, Hunt_ReffertOCm...</td>\n",
       "      <td>194</td>\n",
       "      <td>152</td>\n",
       "    </tr>\n",
       "    <tr>\n",
       "      <th>...</th>\n",
       "      <td>...</td>\n",
       "      <td>...</td>\n",
       "      <td>...</td>\n",
       "      <td>...</td>\n",
       "      <td>...</td>\n",
       "      <td>...</td>\n",
       "      <td>...</td>\n",
       "      <td>...</td>\n",
       "      <td>...</td>\n",
       "      <td>...</td>\n",
       "      <td>...</td>\n",
       "      <td>...</td>\n",
       "    </tr>\n",
       "    <tr>\n",
       "      <th>88566</th>\n",
       "      <td>ZTF18abrroja</td>\n",
       "      <td>[Candidate_EB*, EB*_Candidate, Candidate_EB*, ...</td>\n",
       "      <td>[1773143105115010013, 2389401715115015014, 159...</td>\n",
       "      <td>[-0.0145218, -0.0146482, -0.0145175, -0.014474...</td>\n",
       "      <td>[1.0, 1.0, 1.0, 1.0, 1.0, 1.0, 1.0, 1.0, 1.0, ...</td>\n",
       "      <td>[2459527.6431019, 2460143.901713, 2459345.9191...</td>\n",
       "      <td>[287.3755083, 287.3756004, 287.3755357, 287.37...</td>\n",
       "      <td>[0.12342489510774612, 0.14134135842323303, 0.1...</td>\n",
       "      <td>[18.850826263427734, 19.17655372619629, 18.893...</td>\n",
       "      <td>[NGC_4372_19738, NGC_4372_19738, NGC_4372_1973...</td>\n",
       "      <td>51</td>\n",
       "      <td>0</td>\n",
       "    </tr>\n",
       "    <tr>\n",
       "      <th>88567</th>\n",
       "      <td>ZTF18abrroif</td>\n",
       "      <td>[Unknown, Unknown, Unknown, Unknown]</td>\n",
       "      <td>[1687231485115015002, 1712299375115015000, 162...</td>\n",
       "      <td>[0.1983902, 0.1984475, 0.1983508, 0.1983062]</td>\n",
       "      <td>[1.0, 1.0, 1.0, 1.0]</td>\n",
       "      <td>[2459441.7314815, 2459466.799375, 2459376.8770...</td>\n",
       "      <td>[287.373425, 287.3733986, 287.3734417, 287.373...</td>\n",
       "      <td>[0.09151308983564377, 0.09748759865760803, 0.0...</td>\n",
       "      <td>[17.050302505493164, 17.074960708618164, 17.49...</td>\n",
       "      <td>[NGC_4372_10275, NGC_4372_10275, NGC_4372_1027...</td>\n",
       "      <td>4</td>\n",
       "      <td>0</td>\n",
       "    </tr>\n",
       "    <tr>\n",
       "      <th>88569</th>\n",
       "      <td>ZTF18abnkvhq</td>\n",
       "      <td>[Unknown, LP*_Candidate, Unknown, LP*_Candidat...</td>\n",
       "      <td>[1296292605115010027, 2384374015115010023, 205...</td>\n",
       "      <td>[-0.0073489, -0.0073707, -0.0073017, -0.007388...</td>\n",
       "      <td>[2.0, 2.0, 2.0, 2.0, 2.0, 2.0, 2.0, 2.0]</td>\n",
       "      <td>[2459050.7926042, 2460138.8740162, 2459805.693...</td>\n",
       "      <td>[287.3150209, 287.3150799, 287.315096, 287.315...</td>\n",
       "      <td>[0.09665847569704056, 0.12586231529712677, 0.1...</td>\n",
       "      <td>[17.492454528808594, 17.995119094848633, 17.17...</td>\n",
       "      <td>[NGC_4372_25190, NGC_4372_25190, NGC_4372_2519...</td>\n",
       "      <td>0</td>\n",
       "      <td>8</td>\n",
       "    </tr>\n",
       "    <tr>\n",
       "      <th>88577</th>\n",
       "      <td>ZTF21abawquf</td>\n",
       "      <td>[Unknown, SN candidate, SN candidate, SN candi...</td>\n",
       "      <td>[2012332655115010049, 1681209965115010029, 162...</td>\n",
       "      <td>[-0.1773389, -0.1773592, -0.1773982, -0.177378...</td>\n",
       "      <td>[1.0, 1.0, 1.0, 1.0, 2.0, 2.0]</td>\n",
       "      <td>[2459766.8326505, 2459435.7099653, 2459376.877...</td>\n",
       "      <td>[287.5114402, 287.5114137, 287.5114325, 287.51...</td>\n",
       "      <td>[0.20876558125019073, 0.20455078780651093, 0.2...</td>\n",
       "      <td>[20.010284423828125, 19.661130905151367, 19.94...</td>\n",
       "      <td>[NGC_4372_3453, NGC_4372_3453, NGC_4372_3453, ...</td>\n",
       "      <td>4</td>\n",
       "      <td>2</td>\n",
       "    </tr>\n",
       "    <tr>\n",
       "      <th>88582</th>\n",
       "      <td>ZTF18abnsloi</td>\n",
       "      <td>[Unknown, Unknown, Unknown, Unknown, Unknown, ...</td>\n",
       "      <td>[2501128785115010038, 1953420135115015082, 266...</td>\n",
       "      <td>[-0.0930436, -0.0931626, -0.0932064, -0.093115...</td>\n",
       "      <td>[2.0, 2.0, 2.0, 2.0, 2.0, 2.0, 2.0]</td>\n",
       "      <td>[2460255.6287847, 2459707.9201389, 2460420.901...</td>\n",
       "      <td>[287.3138129, 287.3138248, 287.3136453, 287.31...</td>\n",
       "      <td>[0.13285912573337555, 0.10117737203836441, 0.1...</td>\n",
       "      <td>[17.623748779296875, 17.464109420776367, 17.43...</td>\n",
       "      <td>[NGC_4372_27125, NGC_4372_27125, NGC_4372_2712...</td>\n",
       "      <td>0</td>\n",
       "      <td>7</td>\n",
       "    </tr>\n",
       "  </tbody>\n",
       "</table>\n",
       "<p>40886 rows × 12 columns</p>\n",
       "</div>"
      ],
      "text/plain": [
       "           objectId                                          finkclass  \\\n",
       "0      ZTF18aabvmsf  [RRLyr, RRLyr, RRLyr, RRLyr, RRLyr, RRLyr, RRL...   \n",
       "1      ZTF18aaajkrz  [RRLyr, RRLyr, RRLyr, RRLyr, RRLyr, RRLyr, RRL...   \n",
       "2      ZTF18abciamu  [RRLyr, RRLyr, RRLyr, RRLyr, RRLyr, RRLyr, RRL...   \n",
       "3      ZTF18aaaolyr  [RRLyr, RRLyr, RRLyr, RRLyr, RRLyr, RRLyr, RRL...   \n",
       "4      ZTF19aateulj  [RRLyr, RRLyr, RRLyr, RRLyr, RRLyr, RRLyr, RRL...   \n",
       "...             ...                                                ...   \n",
       "88566  ZTF18abrroja  [Candidate_EB*, EB*_Candidate, Candidate_EB*, ...   \n",
       "88567  ZTF18abrroif               [Unknown, Unknown, Unknown, Unknown]   \n",
       "88569  ZTF18abnkvhq  [Unknown, LP*_Candidate, Unknown, LP*_Candidat...   \n",
       "88577  ZTF21abawquf  [Unknown, SN candidate, SN candidate, SN candi...   \n",
       "88582  ZTF18abnsloi  [Unknown, Unknown, Unknown, Unknown, Unknown, ...   \n",
       "\n",
       "                                                  candid  \\\n",
       "0      [1604295091715010000, 1542359651715010000, 120...   \n",
       "1      [1516371492915010045, 1970254601615015022, 129...   \n",
       "2      [1970254601615010031, 1970290892915015019, 214...   \n",
       "3      [1970254601615010028, 1607352082915015011, 154...   \n",
       "4      [1970250811215015004, 1210335341215010003, 154...   \n",
       "...                                                  ...   \n",
       "88566  [1773143105115010013, 2389401715115015014, 159...   \n",
       "88567  [1687231485115015002, 1712299375115015000, 162...   \n",
       "88569  [1296292605115010027, 2384374015115010023, 205...   \n",
       "88577  [2012332655115010049, 1681209965115010029, 162...   \n",
       "88582  [2501128785115010038, 1953420135115015082, 266...   \n",
       "\n",
       "                                                     dec  \\\n",
       "0      [18.8299791, 18.8299247, 18.8299635, 18.829948...   \n",
       "1      [18.2771514, 18.2771769, 18.2771373, 18.277069...   \n",
       "2      [18.1916857, 18.1916508, 18.1916362, 18.191700...   \n",
       "3      [18.1856755, 18.1856581, 18.1857155, 18.185652...   \n",
       "4      [-26.6395873, -26.6396974, -26.6396431, -26.63...   \n",
       "...                                                  ...   \n",
       "88566  [-0.0145218, -0.0146482, -0.0145175, -0.014474...   \n",
       "88567       [0.1983902, 0.1984475, 0.1983508, 0.1983062]   \n",
       "88569  [-0.0073489, -0.0073707, -0.0073017, -0.007388...   \n",
       "88577  [-0.1773389, -0.1773592, -0.1773982, -0.177378...   \n",
       "88582  [-0.0930436, -0.0931626, -0.0932064, -0.093115...   \n",
       "\n",
       "                                                     fid  \\\n",
       "0      [2.0, 2.0, 2.0, 1.0, 1.0, 1.0, 1.0, 1.0, 1.0, ...   \n",
       "1      [2.0, 2.0, 1.0, 2.0, 2.0, 2.0, 2.0, 1.0, 2.0, ...   \n",
       "2      [2.0, 2.0, 2.0, 1.0, 2.0, 1.0, 2.0, 2.0, 1.0, ...   \n",
       "3      [2.0, 2.0, 1.0, 2.0, 1.0, 2.0, 1.0, 2.0, 2.0, ...   \n",
       "4      [2.0, 1.0, 2.0, 1.0, 1.0, 1.0, 2.0, 1.0, 1.0, ...   \n",
       "...                                                  ...   \n",
       "88566  [1.0, 1.0, 1.0, 1.0, 1.0, 1.0, 1.0, 1.0, 1.0, ...   \n",
       "88567                               [1.0, 1.0, 1.0, 1.0]   \n",
       "88569           [2.0, 2.0, 2.0, 2.0, 2.0, 2.0, 2.0, 2.0]   \n",
       "88577                     [1.0, 1.0, 1.0, 1.0, 2.0, 2.0]   \n",
       "88582                [2.0, 2.0, 2.0, 2.0, 2.0, 2.0, 2.0]   \n",
       "\n",
       "                                                      jd  \\\n",
       "0      [2459358.7950926, 2459296.8596528, 2458955.783...   \n",
       "1      [2459270.8714931, 2459724.7546065, 2459045.737...   \n",
       "2      [2459724.7546065, 2459724.7908912, 2459902.040...   \n",
       "3      [2459724.7546065, 2459361.8520833, 2459297.799...   \n",
       "4      [2459724.7508102, 2458964.8353472, 2459300.904...   \n",
       "...                                                  ...   \n",
       "88566  [2459527.6431019, 2460143.901713, 2459345.9191...   \n",
       "88567  [2459441.7314815, 2459466.799375, 2459376.8770...   \n",
       "88569  [2459050.7926042, 2460138.8740162, 2459805.693...   \n",
       "88577  [2459766.8326505, 2459435.7099653, 2459376.877...   \n",
       "88582  [2460255.6287847, 2459707.9201389, 2460420.901...   \n",
       "\n",
       "                                                      ra  \\\n",
       "0      [182.8329942, 182.8330448, 182.833049, 182.833...   \n",
       "1      [198.1754886, 198.1755048, 198.175503, 198.175...   \n",
       "2      [198.2535862, 198.2536183, 198.2536053, 198.25...   \n",
       "3      [198.236446, 198.2365237, 198.2365907, 198.236...   \n",
       "4      [189.8850989, 189.8849567, 189.8848189, 189.88...   \n",
       "...                                                  ...   \n",
       "88566  [287.3755083, 287.3756004, 287.3755357, 287.37...   \n",
       "88567  [287.373425, 287.3733986, 287.3734417, 287.373...   \n",
       "88569  [287.3150209, 287.3150799, 287.315096, 287.315...   \n",
       "88577  [287.5114402, 287.5114137, 287.5114325, 287.51...   \n",
       "88582  [287.3138129, 287.3138248, 287.3136453, 287.31...   \n",
       "\n",
       "                                                sigmapsf  \\\n",
       "0      [0.06257119029760361, 0.06367256492376328, 0.0...   \n",
       "1      [0.11345422267913818, 0.048118770122528076, 0....   \n",
       "2      [0.10316372662782669, 0.04734647274017334, 0.1...   \n",
       "3      [0.0762750580906868, 0.09402015060186386, 0.14...   \n",
       "4      [0.06209499016404152, 0.05028872191905975, 0.1...   \n",
       "...                                                  ...   \n",
       "88566  [0.12342489510774612, 0.14134135842323303, 0.1...   \n",
       "88567  [0.09151308983564377, 0.09748759865760803, 0.0...   \n",
       "88569  [0.09665847569704056, 0.12586231529712677, 0.1...   \n",
       "88577  [0.20876558125019073, 0.20455078780651093, 0.2...   \n",
       "88582  [0.13285912573337555, 0.10117737203836441, 0.1...   \n",
       "\n",
       "                                                  magpsf  \\\n",
       "0      [18.127302169799805, 18.14103889465332, 17.997...   \n",
       "1      [18.365882873535156, 18.065889358520508, 17.12...   \n",
       "2      [19.305889129638672, 17.52899169921875, 18.880...   \n",
       "3      [18.440797805786133, 17.691665649414062, 18.60...   \n",
       "4      [16.60594367980957, 17.20988655090332, 17.2938...   \n",
       "...                                                  ...   \n",
       "88566  [18.850826263427734, 19.17655372619629, 18.893...   \n",
       "88567  [17.050302505493164, 17.074960708618164, 17.49...   \n",
       "88569  [17.492454528808594, 17.995119094848633, 17.17...   \n",
       "88577  [20.010284423828125, 19.661130905151367, 19.94...   \n",
       "88582  [17.623748779296875, 17.464109420776367, 17.43...   \n",
       "\n",
       "                                                  cat_id  n_g  n_r  \n",
       "0      [Hunt_ReffertOCmembers_507696, Hunt_ReffertOCm...  248  184  \n",
       "1      [Hunt_ReffertOCmembers_527711, Hunt_ReffertOCm...  566  656  \n",
       "2      [Hunt_ReffertOCmembers_527346, Hunt_ReffertOCm...  634  706  \n",
       "3      [Hunt_ReffertOCmembers_527315, Hunt_ReffertOCm...  276  318  \n",
       "4      [Hunt_ReffertOCmembers_520018, Hunt_ReffertOCm...  194  152  \n",
       "...                                                  ...  ...  ...  \n",
       "88566  [NGC_4372_19738, NGC_4372_19738, NGC_4372_1973...   51    0  \n",
       "88567  [NGC_4372_10275, NGC_4372_10275, NGC_4372_1027...    4    0  \n",
       "88569  [NGC_4372_25190, NGC_4372_25190, NGC_4372_2519...    0    8  \n",
       "88577  [NGC_4372_3453, NGC_4372_3453, NGC_4372_3453, ...    4    2  \n",
       "88582  [NGC_4372_27125, NGC_4372_27125, NGC_4372_2712...    0    7  \n",
       "\n",
       "[40886 rows x 12 columns]"
      ]
     },
     "execution_count": 18,
     "metadata": {},
     "output_type": "execute_result"
    }
   ],
   "source": [
    "data_use"
   ]
  },
  {
   "cell_type": "code",
   "execution_count": 24,
   "id": "083321fe-a99a-4ac7-90dc-dbcaecbbec66",
   "metadata": {},
   "outputs": [
    {
     "name": "stdout",
     "output_type": "stream",
     "text": [
      "Selected 4003 / 40886 objects\n"
     ]
    }
   ],
   "source": [
    "\n",
    "def peak_cut(row):\n",
    "    fids = np.array(row[\"fid\"])\n",
    "    mags = np.array(row[\"magpsf\"])\n",
    "    \n",
    "    median = np.mean(mags)\n",
    "    sigma = np.std(mags)\n",
    "    \n",
    "    peaks = {}\n",
    "    for band in [1, 2]:\n",
    "        mask = fids == band\n",
    "        if mask.sum() > 0:\n",
    "            peaks[band] = mags[mask].min()\n",
    "        else:\n",
    "            peaks[band] = np.nan\n",
    "    \n",
    "    # apply cut: peak < (median - 3σ) for both bands\n",
    "    #print(peaks[1],median,2*sigma,peaks[1]/median )\n",
    "    keep = (\n",
    "        (not np.isnan(peaks[1])) and \n",
    "        (not np.isnan(peaks[2])) and \n",
    "        (peaks[1]+1*sigma < median) and \n",
    "        (peaks[2] < median - 1*sigma)\n",
    "    )\n",
    "    \n",
    "    return keep\n",
    "\n",
    "df_selected = data_use2[data_use2.apply(peak_cut, axis=1)]\n",
    "print(f\"Selected {len(df_selected)} / {len(data_use2)} objects\")\n",
    "#627 median\n",
    "#467 mean\n",
    "\n",
    "#Mandar mensagem pra Kristen -- Slack e salvar essa lista de 30 objects (from galactic catalog)\n",
    "#Updates slides --> sobre oque a gente fez -- direto ao ponto (5 min) -- (talvez comentar agn não necessario)\n",
    "#Copiar os dois csv e botar na CRP8"
   ]
  },
  {
   "cell_type": "code",
   "execution_count": 25,
   "id": "5f1c0b46-8175-459d-b223-7a49eed413a0",
   "metadata": {},
   "outputs": [],
   "source": [
    "#df_selected[['objectId','mean_ra','mean_dec','top_class','magpsf','sigmapsf','jd']].to_csv('galatic_3sigma_find_alerts.csv',index=False)"
   ]
  },
  {
   "cell_type": "markdown",
   "id": "94793fd1-89cb-45dc-8e15-8651b3dd7b34",
   "metadata": {},
   "source": [
    "## [Extra] Machine Learning Classification: "
   ]
  },
  {
   "cell_type": "code",
   "execution_count": 31,
   "id": "6ae89062-3e80-4990-b8a0-07ea6969bce7",
   "metadata": {
    "scrolled": true
   },
   "outputs": [
    {
     "name": "stdout",
     "output_type": "stream",
     "text": [
      "Numbe of objects with straight-forward classification: 22279\n",
      "['AGN'] 1\n",
      "['BLLac'] 1\n",
      "['Candidate_AGB*'] 1\n",
      "['BlueStraggler'] 1\n",
      "['Low-Mass*'] 1\n",
      "['HotSubdwarf'] 1\n",
      "['Irregular_V*'] 1\n",
      "['EmLine*'] 1\n",
      "['HB*_Candidate'] 1\n",
      "['LongPeriodV*'] 1\n",
      "['TTauri*'] 1\n",
      "['QSO_Candidate'] 1\n",
      "['WD*'] 1\n",
      "['Candidate_RRLyr'] 2\n",
      "['EB*_Candidate'] 2\n",
      "['EclBin_Candidate'] 2\n",
      "['Pec*'] 2\n",
      "['WR*'] 2\n",
      "['Variable*'] 2\n",
      "['Solar System MPC'] 2\n",
      "['NIR'] 3\n",
      "['X'] 3\n",
      "['deltaCep'] 3\n",
      "['Seyfert_1'] 3\n",
      "['Cepheid'] 3\n",
      "['Candidate_EB*'] 3\n",
      "['Mira'] 3\n",
      "['Candidate_HB*'] 4\n",
      "['RedSG*'] 4\n",
      "['pulsV*SX'] 4\n",
      "['PulsV*delSct'] 5\n",
      "['RSCVn'] 5\n",
      "['Ae*'] 6\n",
      "['LP*_Candidate'] 6\n",
      "['RSCVnV*'] 7\n",
      "['gammaDor'] 7\n",
      "['EllipVar'] 7\n",
      "['SN candidate'] 7\n",
      "['C*'] 7\n",
      "['**'] 8\n",
      "['BYDraV*'] 9\n",
      "['PM*'] 10\n",
      "['PulsV*'] 12\n",
      "['low-mass*'] 14\n",
      "['SB*'] 16\n",
      "['LPV*'] 16\n",
      "['BYDra'] 32\n",
      "['Eruptive*'] 32\n",
      "['Orion_V*'] 35\n",
      "['AGB*'] 35\n",
      "['Be*'] 45\n",
      "['RotV*'] 51\n",
      "['QSO'] 51\n",
      "['EB*'] 61\n",
      "['Em*'] 73\n",
      "['TTau*'] 91\n",
      "['HB*'] 91\n",
      "['RRLyr'] 106\n",
      "['Candidate_YSO'] 130\n",
      "['YSO_Candidate'] 141\n",
      "['V*'] 143\n",
      "['RGB*'] 318\n",
      "['YSO'] 407\n",
      "['Star'] 4345\n",
      "['Unknown'] 15890\n"
     ]
    }
   ],
   "source": [
    "# separate objects without controversial classification\n",
    "flag_unique_class = np.array([len(data_use2['top_class'].values[i]) == 1 for i in range(data_use2.shape[0])])\n",
    "data_clean = data_use2[flag_unique_class]\n",
    "print('Numbe of objects with straight-forward classification:', data_clean.shape[0])\n",
    "\n",
    "# get unique values and frequencies\n",
    "label_clean, freq_clean = np.unique(data_clean['top_class'].values, return_counts=True)\n",
    "\n",
    "# get order\n",
    "order_clean = np.argsort(freq_clean)\n",
    "for i in range(-order_clean.shape[0], 0):\n",
    "    print(label_clean[order_clean[i]], freq_clean[order_clean[i]])\n"
   ]
  },
  {
   "cell_type": "markdown",
   "id": "cab5f3a8-13d1-4dae-8edf-f5200fd6962d",
   "metadata": {},
   "source": [
    "### [EXTRA] Classes after the sigma cut -- Test"
   ]
  },
  {
   "cell_type": "code",
   "execution_count": 26,
   "id": "f59ea3e6-4567-4cce-9d7b-0f3219227b88",
   "metadata": {},
   "outputs": [
    {
     "name": "stdout",
     "output_type": "stream",
     "text": [
      "Numbe of objects with straight-forward classification: 1270\n",
      "['Candidate_YSO'] 1\n",
      "['EllipVar'] 1\n",
      "['Orion_V*'] 1\n",
      "['YSO_Candidate'] 1\n",
      "['low-mass*'] 1\n",
      "['Ae*'] 2\n",
      "['EB*'] 3\n",
      "['Em*'] 3\n",
      "['V*'] 3\n",
      "['RotV*'] 4\n",
      "['RGB*'] 11\n",
      "['QSO'] 13\n",
      "['YSO'] 13\n",
      "['RRLyr'] 19\n",
      "['Star'] 141\n",
      "['Unknown'] 1053\n"
     ]
    }
   ],
   "source": [
    "# separate objects without controversial classification\n",
    "flag_unique_class = np.array([len(df_selected['top_class'].values[i]) == 1 for i in range(df_selected.shape[0])])\n",
    "data_clean = df_selected[flag_unique_class]\n",
    "print('Numbe of objects with straight-forward classification:', data_clean.shape[0])\n",
    "\n",
    "# get unique values and frequencies\n",
    "label_clean, freq_clean = np.unique(data_clean['top_class'].values, return_counts=True)\n",
    "\n",
    "# get order\n",
    "order_clean = np.argsort(freq_clean)\n",
    "for i in range(-order_clean.shape[0], 0):\n",
    "    print(label_clean[order_clean[i]], freq_clean[order_clean[i]])\n"
   ]
  },
  {
   "cell_type": "markdown",
   "id": "c6fb10d1-4366-45e6-afdc-0276742c680c",
   "metadata": {},
   "source": [
    "### [EXTRA] Unique Class preprocessing"
   ]
  },
  {
   "cell_type": "code",
   "execution_count": 32,
   "id": "351c7ef5-b5bf-4ed3-91a9-dacd8be5c5ef",
   "metadata": {},
   "outputs": [
    {
     "name": "stdout",
     "output_type": "stream",
     "text": [
      "Numner of objects associated to multiple classes:  18607\n"
     ]
    }
   ],
   "source": [
    "data_misc = data_use2[~flag_unique_class]\n",
    "print('Numner of objects associated to multiple classes: ', data_misc.shape[0])"
   ]
  },
  {
   "cell_type": "code",
   "execution_count": 34,
   "id": "7556e05f-2ebb-4fc7-bd9d-f7c5f118a10a",
   "metadata": {},
   "outputs": [
    {
     "data": {
      "text/plain": [
       "array([array(['PN?_Candidate', 'RRLyr', 'RRLyrae', 'Radio', 'Unknown', 'WD*'],\n",
       "             dtype='<U13')                                                    ,\n",
       "       array(['GlCl?_Candidate', 'QSO', 'RGB*', 'RRLyr', 'RRLyrae', 'Unknown',\n",
       "              'WD*_Candidate'], dtype='<U15')                                 ,\n",
       "       array(['GlCl?_Candidate', 'RGB*', 'RRLyr', 'RRLyrae', 'Unknown'],\n",
       "             dtype='<U15')                                              ,\n",
       "       ...,\n",
       "       array(['Candidate_EB*', 'EB*', 'EB*_Candidate', 'EclBin', 'Unknown'],\n",
       "             dtype='<U13')                                                  ,\n",
       "       array(['LP*_Candidate', 'Unknown'], dtype='<U13'),\n",
       "       array(['SN candidate', 'Unknown'], dtype='<U12')],\n",
       "      shape=(18607,), dtype=object)"
      ]
     },
     "execution_count": 34,
     "metadata": {},
     "output_type": "execute_result"
    }
   ],
   "source": [
    "data_misc['top_class'].values"
   ]
  },
  {
   "cell_type": "code",
   "execution_count": 42,
   "id": "a9e2b4e4-f1d3-4906-9c40-1e129f81ba68",
   "metadata": {},
   "outputs": [
    {
     "name": "stderr",
     "output_type": "stream",
     "text": [
      "/tmp/ipykernel_2953566/600921243.py:80: SettingWithCopyWarning: \n",
      "A value is trying to be set on a copy of a slice from a DataFrame.\n",
      "Try using .loc[row_indexer,col_indexer] = value instead\n",
      "\n",
      "See the caveats in the documentation: https://pandas.pydata.org/pandas-docs/stable/user_guide/indexing.html#returning-a-view-versus-a-copy\n",
      "  data_misc['canonical_labels'] = data_misc['top_class'].apply(canonicalize)\n",
      "/tmp/ipykernel_2953566/600921243.py:81: SettingWithCopyWarning: \n",
      "A value is trying to be set on a copy of a slice from a DataFrame.\n",
      "Try using .loc[row_indexer,col_indexer] = value instead\n",
      "\n",
      "See the caveats in the documentation: https://pandas.pydata.org/pandas-docs/stable/user_guide/indexing.html#returning-a-view-versus-a-copy\n",
      "  data_misc['final_class'] = data_misc['canonical_labels'].apply(pick_final_label)\n",
      "/tmp/ipykernel_2953566/600921243.py:82: SettingWithCopyWarning: \n",
      "A value is trying to be set on a copy of a slice from a DataFrame\n",
      "\n",
      "See the caveats in the documentation: https://pandas.pydata.org/pandas-docs/stable/user_guide/indexing.html#returning-a-view-versus-a-copy\n",
      "  data_misc.drop(columns= 'canonical_labels', inplace=True)\n"
     ]
    }
   ],
   "source": [
    "canonical_map = {\n",
    "    # Eclipsing binaries\n",
    "    \"EB*\": \"EB\", \"EB*_Candidate\": \"EB\", \"Candidate_EB*\": \"EB\",\n",
    "    \"EclBin\": \"EB\", \"EclBin_Candidate\": \"EB\",\n",
    "    \n",
    "    # RR Lyrae\n",
    "    \"RRLyr\": \"RR Lyrae\", \"RRLyrae\": \"RR Lyrae\",\n",
    "    \"RRLyr_Candidate\": \"RR Lyrae\", \"RRLyrae_Candidate\": \"RR Lyrae\",\n",
    "    \"Candidate_RRLyr\": \"RR Lyrae\",\n",
    "    \n",
    "    # Cepheids\n",
    "    \"Cepheid\": \"Cepheid\", \"ClassicalCep\": \"Cepheid\",\n",
    "    \"Cepheid_Candidate\": \"Cepheid\", \"Type2Cep\": \"Cepheid\",\n",
    "    \n",
    "    # Long period variables\n",
    "    \"LP*_Candidate\": \"LPV\", \"LPV*\": \"LPV\",\n",
    "    \"LongPeriodV*\": \"LPV\", \"LongPeriodV*_Candidate\": \"LPV\",\n",
    "    \n",
    "    # RGB / HB stars\n",
    "    \"RGB*\": \"RGB\", \"RGB*_Candidate\": \"RGB\",\n",
    "    \"HB*\": \"HB\", \"HB*_Candidate\": \"HB\", \"Candidate_HB*\": \"HB\",\n",
    "    \n",
    "    # White dwarfs\n",
    "    \"WD*\": \"WD\", \"WD*_Candidate\": \"WD\", \"WhiteDwarf_Candidate\": \"WD\",\n",
    "    \n",
    "    # AGN / QSO / Blazars\n",
    "    \"AGN\": \"AGN\", \"AGN_Candidate\": \"AGN\",\n",
    "    \"QSO\": \"AGN\", \"QSO_Candidate\": \"AGN\",\n",
    "    \"Blazar\": \"AGN\", \"BLLac\": \"AGN\",\n",
    "    \n",
    "    # AGB stars\n",
    "    \"AGB*\": \"AGB\", \"AGB*_Candidate\": \"AGB\", \"Candidate_AGB*\": \"AGB\",\n",
    "    \n",
    "    # Cataclysmic variables\n",
    "    \"CV*_Candidate\": \"CV\", \"Candidate_CV*\": \"CV\",\n",
    "    \n",
    "    # Pulsating variables\n",
    "    \"PulsV*\": \"PulsV\", \"PulsV*RVTau\": \"PulsV\", \"PulsV*WVir\": \"PulsV\",\n",
    "    \"PulsV*bCep\": \"PulsV\", \"PulsV*delSct\": \"PulsV\",\n",
    "    \n",
    "    # T Tauri / YSO\n",
    "    \"TTau*\": \"T Tauri\", \"TTau*_Candidate\": \"T Tauri\",\n",
    "    \"TTauri*\": \"T Tauri\", \"TTauri*_Candidate\": \"T Tauri\",\n",
    "    \"YSO\": \"YSO\", \"YSO_Candidate\": \"YSO\", \"Candidate_YSO\": \"YSO\",\n",
    "    \n",
    "    # Supernova\n",
    "    \"SN\": \"SN\", \"SN candidate\": \"SN\",\n",
    "    \n",
    "    # Planetary nebulae\n",
    "    \"PN\": \"PN\", \"PN?\": \"PN\", \"PN?_Candidate\": \"PN\", \"PlanetaryNeb_Candidate\": \"PN\",\n",
    "    \n",
    "    # Open / globular clusters\n",
    "    \"OpCl\": \"OpenCluster\", \"OpenCluster\": \"OpenCluster\",\n",
    "    \"GlCl\": \"GlobularCluster\", \"GlCl?_Candidate\": \"GlobularCluster\",\n",
    "    \n",
    "    # Other stellar types\n",
    "    \"BlueStraggler\": \"BlueStraggler\", \"BlueStraggler_Candidate\": \"BlueStraggler\",\n",
    "    \"Blue\": \"BlueStar\", \"RedSG*\": \"RedSuperGiant\",\n",
    "    \"HotSubdwarf\": \"HotSubdwarf\", \"HotSubdwarf_Candidate\": \"HotSubdwarf\",\n",
    "    \n",
    "    # Radio/X-ray\n",
    "    \"Radio\": \"Radio\", \"Radio(cm)\": \"Radio\", \"Radio(mm)\": \"Radio\", \"Radio(sub-mm)\": \"Radio\",\n",
    "    \"X\": \"XraySource\", \"XB\": \"XraySource\", \"XrayBin\": \"XraySource\",\n",
    "    \n",
    "    # Unknown\n",
    "    \"Unknown\": \"Unknown\", \"Unknown_Candidate\": \"Unknown\",\n",
    "    \"multiple_object\": \"Unknown\"\n",
    "}\n",
    "\n",
    "#  Pick the most frequent label (excluding Unknown) \n",
    "def pick_final_label(labels):\n",
    "    labels = [l for l in labels if l != \"Unknown\"]  \n",
    "    if len(labels) == 0:\n",
    "        return \"Unknown\"\n",
    "    return Counter(labels).most_common(1)[0][0]\n",
    "\n",
    "def canonicalize(labels):\n",
    "    return [canonical_map.get(l, l) for l in labels]\n",
    "\n",
    "data_misc['canonical_labels'] = data_misc['top_class'].apply(canonicalize)\n",
    "data_misc['final_class'] = data_misc['canonical_labels'].apply(pick_final_label)\n",
    "data_misc.drop(columns= 'canonical_labels', inplace=True)\n",
    "#delete canonical_labels"
   ]
  },
  {
   "cell_type": "code",
   "execution_count": 43,
   "id": "c1f672d0-7e6b-41d4-b6c5-13344f2e606d",
   "metadata": {},
   "outputs": [
    {
     "data": {
      "text/html": [
       "<div>\n",
       "<style scoped>\n",
       "    .dataframe tbody tr th:only-of-type {\n",
       "        vertical-align: middle;\n",
       "    }\n",
       "\n",
       "    .dataframe tbody tr th {\n",
       "        vertical-align: top;\n",
       "    }\n",
       "\n",
       "    .dataframe thead th {\n",
       "        text-align: right;\n",
       "    }\n",
       "</style>\n",
       "<table border=\"1\" class=\"dataframe\">\n",
       "  <thead>\n",
       "    <tr style=\"text-align: right;\">\n",
       "      <th></th>\n",
       "      <th>objectId</th>\n",
       "      <th>finkclass</th>\n",
       "      <th>candid</th>\n",
       "      <th>dec</th>\n",
       "      <th>fid</th>\n",
       "      <th>jd</th>\n",
       "      <th>ra</th>\n",
       "      <th>sigmapsf</th>\n",
       "      <th>magpsf</th>\n",
       "      <th>cat_id</th>\n",
       "      <th>n_g</th>\n",
       "      <th>n_r</th>\n",
       "      <th>top_class</th>\n",
       "      <th>mean_ra</th>\n",
       "      <th>mean_dec</th>\n",
       "      <th>final_class</th>\n",
       "    </tr>\n",
       "  </thead>\n",
       "  <tbody>\n",
       "    <tr>\n",
       "      <th>65509</th>\n",
       "      <td>ZTF19actqcgd</td>\n",
       "      <td>[multiple_object, Unknown, multiple_object, Un...</td>\n",
       "      <td>[1328352360415015041, 2202279690415015099, 132...</td>\n",
       "      <td>[59.5476321, 59.5473902, 59.5476321, 59.5473902]</td>\n",
       "      <td>[1.0, 1.0, 1.0, 1.0]</td>\n",
       "      <td>[2459082.8523611, 2459956.7796991, 2459082.852...</td>\n",
       "      <td>[35.4254745, 35.4259739, 35.4254745, 35.4259739]</td>\n",
       "      <td>[0.20673204958438873, 0.10708197206258774, 0.2...</td>\n",
       "      <td>[17.76119041442871, 17.920082092285156, 17.761...</td>\n",
       "      <td>[Hunt_ReffertOCmembers_945636, Hunt_ReffertOCm...</td>\n",
       "      <td>4</td>\n",
       "      <td>0</td>\n",
       "      <td>[Unknown, multiple_object]</td>\n",
       "      <td>35.425724</td>\n",
       "      <td>59.547511</td>\n",
       "      <td>Unknown</td>\n",
       "    </tr>\n",
       "  </tbody>\n",
       "</table>\n",
       "</div>"
      ],
      "text/plain": [
       "           objectId                                          finkclass  \\\n",
       "65509  ZTF19actqcgd  [multiple_object, Unknown, multiple_object, Un...   \n",
       "\n",
       "                                                  candid  \\\n",
       "65509  [1328352360415015041, 2202279690415015099, 132...   \n",
       "\n",
       "                                                    dec                   fid  \\\n",
       "65509  [59.5476321, 59.5473902, 59.5476321, 59.5473902]  [1.0, 1.0, 1.0, 1.0]   \n",
       "\n",
       "                                                      jd  \\\n",
       "65509  [2459082.8523611, 2459956.7796991, 2459082.852...   \n",
       "\n",
       "                                                     ra  \\\n",
       "65509  [35.4254745, 35.4259739, 35.4254745, 35.4259739]   \n",
       "\n",
       "                                                sigmapsf  \\\n",
       "65509  [0.20673204958438873, 0.10708197206258774, 0.2...   \n",
       "\n",
       "                                                  magpsf  \\\n",
       "65509  [17.76119041442871, 17.920082092285156, 17.761...   \n",
       "\n",
       "                                                  cat_id  n_g  n_r  \\\n",
       "65509  [Hunt_ReffertOCmembers_945636, Hunt_ReffertOCm...    4    0   \n",
       "\n",
       "                        top_class    mean_ra   mean_dec final_class  \n",
       "65509  [Unknown, multiple_object]  35.425724  59.547511     Unknown  "
      ]
     },
     "execution_count": 43,
     "metadata": {},
     "output_type": "execute_result"
    }
   ],
   "source": [
    "data_misc.loc[data_misc['final_class']=='Unknown']"
   ]
  },
  {
   "cell_type": "code",
   "execution_count": null,
   "id": "f3f3d812-fcde-4011-9098-2286249743a8",
   "metadata": {},
   "outputs": [],
   "source": []
  }
 ],
 "metadata": {
  "kernelspec": {
   "display_name": "Python 3 (ipykernel)",
   "language": "python",
   "name": "python3"
  },
  "language_info": {
   "codemirror_mode": {
    "name": "ipython",
    "version": 3
   },
   "file_extension": ".py",
   "mimetype": "text/x-python",
   "name": "python",
   "nbconvert_exporter": "python",
   "pygments_lexer": "ipython3",
   "version": "3.12.3"
  }
 },
 "nbformat": 4,
 "nbformat_minor": 5
}
