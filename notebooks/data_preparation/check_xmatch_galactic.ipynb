{
 "cells": [
  {
   "cell_type": "code",
   "execution_count": 1,
   "id": "5e147824-f855-47c4-b326-c18880008991",
   "metadata": {},
   "outputs": [],
   "source": [
    "# Created by Emille Ishida on 03/09/2025"
   ]
  },
  {
   "cell_type": "code",
   "execution_count": 1,
   "id": "353fc3dd-e4be-4c21-9494-3cd52d2fd68a",
   "metadata": {},
   "outputs": [],
   "source": [
    "import pandas as pd\n",
    "import numpy as np\n",
    "import matplotlib.pylab as plt\n",
    "from copy import deepcopy"
   ]
  },
  {
   "cell_type": "code",
   "execution_count": 2,
   "id": "0e0b29f6-61e0-4ac1-94bc-c37875168e8a",
   "metadata": {},
   "outputs": [],
   "source": [
    "# read results of xmatch\n",
    "data = pd.read_parquet('/media3/CRP8/TDE/data/xmatch/galactic/')"
   ]
  },
  {
   "cell_type": "code",
   "execution_count": 3,
   "id": "d128ca81-daa5-4b66-afc6-df04a90b50a1",
   "metadata": {},
   "outputs": [
    {
     "data": {
      "text/plain": [
       "(3295444, 10)"
      ]
     },
     "execution_count": 3,
     "metadata": {},
     "output_type": "execute_result"
    }
   ],
   "source": [
    "data.shape"
   ]
  },
  {
   "cell_type": "code",
   "execution_count": 4,
   "id": "79d67fb3-758f-40c0-9e34-fd45804a30a3",
   "metadata": {},
   "outputs": [],
   "source": [
    "data_obj = data.groupby('objectId', sort=False, as_index=False).agg(list)"
   ]
  },
  {
   "cell_type": "code",
   "execution_count": 5,
   "id": "d56af550-1a72-4456-b8f3-5ffad90c1249",
   "metadata": {},
   "outputs": [
    {
     "data": {
      "text/plain": [
       "(88594, 10)"
      ]
     },
     "execution_count": 5,
     "metadata": {},
     "output_type": "execute_result"
    }
   ],
   "source": [
    "data_obj.shape"
   ]
  },
  {
   "cell_type": "code",
   "execution_count": null,
   "id": "3addb45f-c6e8-4aa2-8c44-b2e77573b782",
   "metadata": {},
   "outputs": [],
   "source": []
  }
 ],
 "metadata": {
  "kernelspec": {
   "display_name": "Python 3 (ipykernel)",
   "language": "python",
   "name": "python3"
  },
  "language_info": {
   "codemirror_mode": {
    "name": "ipython",
    "version": 3
   },
   "file_extension": ".py",
   "mimetype": "text/x-python",
   "name": "python",
   "nbconvert_exporter": "python",
   "pygments_lexer": "ipython3",
   "version": "3.12.3"
  }
 },
 "nbformat": 4,
 "nbformat_minor": 5
}
