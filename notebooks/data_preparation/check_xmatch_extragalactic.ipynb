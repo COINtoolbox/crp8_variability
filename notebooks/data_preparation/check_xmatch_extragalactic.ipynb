{
 "cells": [
  {
   "cell_type": "code",
   "execution_count": 1,
   "id": "65bb5cce-4dab-4a0c-8a17-3cd500c619b0",
   "metadata": {},
   "outputs": [],
   "source": [
    "# Created by Emille Ishida on 02/09/2025"
   ]
  },
  {
   "cell_type": "code",
   "execution_count": 1,
   "id": "dfe0a60c-9096-4b92-8989-706ba2cc3b2c",
   "metadata": {},
   "outputs": [],
   "source": [
    "import pandas as pd\n",
    "import numpy as np\n",
    "import matplotlib.pylab as plt\n",
    "from copy import deepcopy"
   ]
  },
  {
   "cell_type": "markdown",
   "id": "aa19a389-13f3-404d-a5bc-27618cdf0acf",
   "metadata": {},
   "source": [
    "### For extragalactic"
   ]
  },
  {
   "cell_type": "code",
   "execution_count": 2,
   "id": "c363292d-14ad-4314-b641-2354022b9ee5",
   "metadata": {},
   "outputs": [],
   "source": [
    "data = pd.read_parquet('/media3/CRP8/TDE/data/xmatch/extragalactic/')"
   ]
  },
  {
   "cell_type": "code",
   "execution_count": 3,
   "id": "0fe0e426-cef2-4cb6-ba70-da7c6569e4c7",
   "metadata": {},
   "outputs": [
    {
     "data": {
      "text/plain": [
       "(3734, 15)"
      ]
     },
     "execution_count": 3,
     "metadata": {},
     "output_type": "execute_result"
    }
   ],
   "source": [
    "data.shape"
   ]
  },
  {
   "cell_type": "code",
   "execution_count": 10,
   "id": "016f272d-98e4-4ad6-8128-bb6f606b17fd",
   "metadata": {},
   "outputs": [
    {
     "data": {
      "text/plain": [
       "array(['AGN', 'AGN_Candidate', 'BClG', 'BLLac', 'BSG*_Candidate',\n",
       "       'BlueSG', 'BlueSG*', 'BlueSG_Candidate', 'Candidate_BSG*',\n",
       "       'Candidate_RRLyr', 'Candidate_RSG*', 'Cepheid', 'Cl*',\n",
       "       'ClassicalCep', 'Cluster*', 'Compact_Gr_G', 'EB*', 'EclBin', 'Em*',\n",
       "       'EmG', 'FIR', 'GinCl', 'GinGroup', 'GinPair', 'GlCl', 'GlCl?',\n",
       "       'GlCl?_Candidate', 'GlobCluster', 'GlobCluster_Candidate',\n",
       "       'GroupG', 'HII', 'HII_G', 'IG', 'LINER', 'LMXB', 'LP*_Candidate',\n",
       "       'LPV*', 'MIR', 'Microlensing candidate', 'Mira', 'Nova', 'OpCl',\n",
       "       'PN?_Candidate', 'PairG', 'PartofG', 'Pec*', 'PulsV*', 'QSO',\n",
       "       'RRLyr', 'RRLyrae', 'RSG*_Candidate', 'Radio', 'RedSG', 'RedSG*',\n",
       "       'RedSG_Candidate', 'SNR', 'Seyfert2', 'Seyfert_1', 'Seyfert_2',\n",
       "       'Solar System MPC', 'Star', 'StarburstG', 'Type2Cep', 'UV',\n",
       "       'Unknown', 'V*', 'WR*', 'X', 'XB', 'YellowSG*', 'deltaCep'],\n",
       "      dtype=object)"
      ]
     },
     "execution_count": 10,
     "metadata": {},
     "output_type": "execute_result"
    }
   ],
   "source": [
    "np.unique(data['finkclass'].values)"
   ]
  },
  {
   "cell_type": "code",
   "execution_count": 4,
   "id": "742771af-742c-4e06-9e0f-8b239e9b8fac",
   "metadata": {},
   "outputs": [],
   "source": [
    "data_obj = data.groupby('objectId', sort=False, as_index=False).agg(list)"
   ]
  },
  {
   "cell_type": "code",
   "execution_count": 5,
   "id": "7676c71e-7084-4766-8ec5-7bc519a25aa3",
   "metadata": {},
   "outputs": [
    {
     "data": {
      "text/plain": [
       "(443, 15)"
      ]
     },
     "execution_count": 5,
     "metadata": {},
     "output_type": "execute_result"
    }
   ],
   "source": [
    "data_obj.shape"
   ]
  },
  {
   "cell_type": "markdown",
   "id": "4ddbe5d5-670b-4805-b5ef-9485d31bd5be",
   "metadata": {},
   "source": [
    "Check number of points in each light curve"
   ]
  },
  {
   "cell_type": "code",
   "execution_count": 6,
   "id": "290390e8-b488-4645-8995-1cc24f0cf97f",
   "metadata": {},
   "outputs": [],
   "source": [
    "data_obj['n_g'] = [sum(np.array(item) == 1) for item in data_obj['fid']]\n",
    "data_obj['n_r'] = [sum(np.array(item) == 2) for item in data_obj['fid']]"
   ]
  },
  {
   "cell_type": "code",
   "execution_count": 7,
   "id": "1b4d56dc-15e6-42c9-870f-a4fa91f95ffc",
   "metadata": {},
   "outputs": [],
   "source": [
    "# keep only light curves with a minimum of 3 points (less than that it is a straight line)\n",
    "flag_points = np.logical_or(data_obj['n_g'] > 3, data_obj['n_r'] > 3)\n",
    "data_use = data_obj[flag_points]"
   ]
  },
  {
   "cell_type": "code",
   "execution_count": 9,
   "id": "40be5fb6-585e-4349-9e75-3d551138cfad",
   "metadata": {},
   "outputs": [
    {
     "data": {
      "text/plain": [
       "(124, 17)"
      ]
     },
     "execution_count": 9,
     "metadata": {},
     "output_type": "execute_result"
    }
   ],
   "source": [
    "data_use.shape"
   ]
  },
  {
   "cell_type": "code",
   "execution_count": 8,
   "id": "5bce2997-ae4e-4355-9853-c6d66bca1d9a",
   "metadata": {},
   "outputs": [
    {
     "data": {
      "text/plain": [
       "count    124.000000\n",
       "mean       7.911290\n",
       "std       18.865813\n",
       "min        0.000000\n",
       "25%        0.000000\n",
       "50%        1.000000\n",
       "75%        6.250000\n",
       "max      128.000000\n",
       "Name: n_g, dtype: float64"
      ]
     },
     "execution_count": 8,
     "metadata": {},
     "output_type": "execute_result"
    }
   ],
   "source": [
    "data_use['n_g'].describe()"
   ]
  },
  {
   "cell_type": "code",
   "execution_count": 51,
   "id": "70816d42-9a9a-4496-8f49-9baf6caad8dd",
   "metadata": {},
   "outputs": [
    {
     "data": {
      "image/png": "[encoded data removed]",
      "text/plain": [
       "<Figure size 1600x500 with 2 Axes>"
      ]
     },
     "metadata": {},
     "output_type": "display_data"
    }
   ],
   "source": [
    "plt.figure(figsize=(16,5))\n",
    "plt.suptitle('Number of points per filter')\n",
    "\n",
    "plt.subplot(1,2,1)\n",
    "plt.hist(data_use['n_g'], bins=50)\n",
    "plt.xlabel('number points in g')\n",
    "plt.ylabel('N')\n",
    "\n",
    "plt.subplot(1,2,2)\n",
    "plt.hist(data_use['n_r'], bins=50)\n",
    "plt.xlabel('number of points in r')\n",
    "plt.ylabel('N')\n",
    "\n",
    "plt.show()"
   ]
  },
  {
   "cell_type": "code",
   "execution_count": 85,
   "id": "4579da9d-88d6-4dfe-8e82-0f75312acde4",
   "metadata": {},
   "outputs": [],
   "source": [
    "## population in Fink class inclui xmatches as well as machine learning -- \n",
    "# anything that does not have \"candidate\" in the name is probably xmatch with some catalog, most likely simbad\n",
    "classes = np.unique(data['finkclass'].values)\n",
    "\n",
    "data_use2 = deepcopy(data_use)\n",
    "data_use2['top_class'] = [np.unique(data_use['finkclass'].values[i]) for i in range(data_use.shape[0])]\n",
    "\n",
    "# average position\n",
    "data_use2['mean_ra'] = [np.mean(data_use.iloc[i]['ra']) for i in range(data_use.shape[0])]\n",
    "data_use2['mean_dec'] = [np.mean(data_use.iloc[i]['dec']) for i in range(data_use.shape[0])]\n",
    "\n",
    "data_use2[['objectId', 'mean_ra', 'mean_dec']].to_csv('extragalactic_find_DR_photometry.csv', index=False)"
   ]
  },
  {
   "cell_type": "markdown",
   "id": "52d49299-6756-44e5-a844-e51788950844",
   "metadata": {},
   "source": [
    "## Check Machine learning classifications for Unknown"
   ]
  },
  {
   "cell_type": "code",
   "execution_count": 78,
   "id": "32ef8ec3-ada2-4a5e-a898-32fe9e656952",
   "metadata": {},
   "outputs": [
    {
     "name": "stdout",
     "output_type": "stream",
     "text": [
      "Numbe of objects with straight-forward classification: 53\n",
      "['AGN'] 1\n",
      "['Cepheid'] 1\n",
      "['GinPair'] 1\n",
      "['GinGroup'] 1\n",
      "['Unknown'] 1\n",
      "['V*'] 1\n",
      "['Seyfert_2'] 1\n",
      "['Cl*'] 2\n",
      "['BlueSG*'] 2\n",
      "['RRLyr'] 5\n",
      "['Star'] 5\n",
      "['QSO'] 8\n",
      "['GlCl'] 24\n"
     ]
    }
   ],
   "source": [
    "# separate objects without controversial classification\n",
    "flag_unique_class = np.array([len(data_use2['top_class'].values[i]) == 1 for i in range(data_use2.shape[0])])\n",
    "data_clean = data_use2[flag_unique_class]\n",
    "print('Numbe of objects with straight-forward classification:', data_clean.shape[0])\n",
    "\n",
    "# get unique values and frequencies\n",
    "label_clean, freq_clean = np.unique(data_clean['top_class'].values, return_counts=True)\n",
    "\n",
    "# get order\n",
    "order_clean = np.argsort(freq_clean)\n",
    "for i in range(-order_clean.shape[0], 0):\n",
    "    print(label_clean[order_clean[i]], freq_clean[order_clean[i]])\n"
   ]
  },
  {
   "cell_type": "markdown",
   "id": "df773fe8-961c-4d93-b5ec-738d4082e5c9",
   "metadata": {},
   "source": [
    "Check objects with multiple classifications"
   ]
  },
  {
   "cell_type": "code",
   "execution_count": 81,
   "id": "71a6eae6-0a8a-4a44-a519-65efdd5d1341",
   "metadata": {},
   "outputs": [
    {
     "name": "stdout",
     "output_type": "stream",
     "text": [
      "Numner of objects associated to multiple classes:  71\n"
     ]
    }
   ],
   "source": [
    "data_misc = data_use2[~flag_unique_class]\n",
    "print('Numner of objects associated to multiple classes: ', data_misc.shape[0])"
   ]
  },
  {
   "cell_type": "code",
   "execution_count": 87,
   "id": "86ba7f3b-eed7-4045-8e20-4b30b6b13934",
   "metadata": {},
   "outputs": [
    {
     "data": {
      "text/plain": [
       "array([array(['BLLac', 'Unknown'], dtype='<U7'),\n",
       "       array(['GlCl', 'GlobCluster'], dtype='<U11'),\n",
       "       array(['EB*', 'EclBin', 'Unknown'], dtype='<U7'),\n",
       "       array(['Candidate_RSG*', 'Cl*', 'Pec*', 'RSG*_Candidate', 'RedSG',\n",
       "              'RedSG*', 'Star', 'Unknown'], dtype='<U14')                ,\n",
       "       array(['GinCl', 'GlCl', 'RRLyr', 'RRLyrae', 'Unknown'], dtype='<U7'),\n",
       "       array(['Cl*', 'Cluster*'], dtype='<U8'),\n",
       "       array(['Cepheid', 'Type2Cep'], dtype='<U8'),\n",
       "       array(['BSG*_Candidate', 'GlCl', 'UV', 'Unknown'], dtype='<U14'),\n",
       "       array(['RRLyr', 'RRLyrae'], dtype='<U7'),\n",
       "       array(['PN?_Candidate', 'QSO', 'Unknown', 'XB'], dtype='<U13'),\n",
       "       array(['GlCl', 'HII', 'X'], dtype='<U4'),\n",
       "       array(['GinCl', 'QSO', 'X'], dtype='<U5'),\n",
       "       array(['QSO', 'Unknown'], dtype='<U7'),\n",
       "       array(['GlCl', 'PulsV*', 'Unknown'], dtype='<U7'),\n",
       "       array(['GlCl', 'Star'], dtype='<U4'),\n",
       "       array(['GlCl', 'Unknown'], dtype='<U7'),\n",
       "       array(['GlCl', 'LP*_Candidate'], dtype='<U13'),\n",
       "       array(['GlCl', 'V*'], dtype='<U4'),\n",
       "       array(['BSG*_Candidate', 'BlueSG_Candidate', 'Candidate_BSG*', 'GlCl'],\n",
       "             dtype='<U16')                                                    ,\n",
       "       array(['GinCl', 'QSO'], dtype='<U5'),\n",
       "       array(['EB*', 'EclBin', 'Unknown'], dtype='<U7'),\n",
       "       array(['BClG', 'Radio'], dtype='<U5'),\n",
       "       array(['BSG*_Candidate', 'Candidate_BSG*', 'GlCl?', 'GlCl?_Candidate'],\n",
       "             dtype='<U15')                                                    ,\n",
       "       array(['Em*', 'Radio'], dtype='<U5'),\n",
       "       array(['GlCl', 'Star'], dtype='<U4'),\n",
       "       array(['BClG', 'Compact_Gr_G', 'QSO', 'Unknown'], dtype='<U12'),\n",
       "       array(['Candidate_BSG*', 'Cl*'], dtype='<U14'),\n",
       "       array(['EclBin', 'Unknown'], dtype='<U7'),\n",
       "       array(['BSG*_Candidate', 'Cl*', 'Unknown'], dtype='<U14'),\n",
       "       array(['BSG*_Candidate', 'Candidate_BSG*', 'Cl*'], dtype='<U14'),\n",
       "       array(['HII', 'deltaCep'], dtype='<U8'),\n",
       "       array(['Cepheid', 'Type2Cep', 'Unknown'], dtype='<U8'),\n",
       "       array(['BSG*_Candidate', 'Candidate_BSG*', 'GlCl?_Candidate', 'Mira',\n",
       "              'Unknown'], dtype='<U15')                                     ,\n",
       "       array(['GinGroup', 'Unknown'], dtype='<U8'),\n",
       "       array(['RRLyr', 'RRLyrae'], dtype='<U7'),\n",
       "       array(['BClG', 'QSO'], dtype='<U4'),\n",
       "       array(['OpCl', 'Unknown'], dtype='<U7'),\n",
       "       array(['GlCl', 'PulsV*'], dtype='<U6'),\n",
       "       array(['HII', 'PartofG', 'QSO', 'Seyfert_2', 'Unknown'], dtype='<U9'),\n",
       "       array(['QSO', 'RRLyr', 'Unknown'], dtype='<U7'),\n",
       "       array(['AGN', 'Microlensing candidate', 'Unknown'], dtype='<U22'),\n",
       "       array(['Cl*', 'Cluster*', 'Unknown'], dtype='<U8'),\n",
       "       array(['Cl*', 'RSG*_Candidate', 'RedSG_Candidate', 'Unknown'],\n",
       "             dtype='<U15')                                           ,\n",
       "       array(['Cl*', 'Cluster*', 'EB*', 'Unknown'], dtype='<U8'),\n",
       "       array(['AGN', 'Unknown'], dtype='<U7'),\n",
       "       array(['RSG*_Candidate', 'RedSG_Candidate', 'Unknown', 'V*'], dtype='<U15'),\n",
       "       array(['GlCl', 'GlobCluster'], dtype='<U11'),\n",
       "       array(['RSG*_Candidate', 'RedSG_Candidate', 'Star'], dtype='<U15'),\n",
       "       array(['Candidate_RSG*', 'GlCl'], dtype='<U14'),\n",
       "       array(['EB*', 'EclBin', 'Star'], dtype='<U6'),\n",
       "       array(['LPV*', 'Star', 'Unknown'], dtype='<U7'),\n",
       "       array(['GlCl', 'Unknown'], dtype='<U7'),\n",
       "       array(['GlCl', 'Unknown'], dtype='<U7'),\n",
       "       array(['Cepheid', 'Cl*', 'ClassicalCep', 'GlCl?', 'Unknown', 'deltaCep'],\n",
       "             dtype='<U12')                                                      ,\n",
       "       array(['AGN', 'GinCl', 'Unknown'], dtype='<U7'),\n",
       "       array(['GlCl', 'Unknown'], dtype='<U7'),\n",
       "       array(['Unknown', 'V*'], dtype='<U7'),\n",
       "       array(['GlCl', 'MIR', 'Star'], dtype='<U4'),\n",
       "       array(['GinPair', 'Unknown'], dtype='<U7'),\n",
       "       array(['GlCl', 'Unknown'], dtype='<U7'),\n",
       "       array(['UV', 'V*'], dtype='<U2'),\n",
       "       array(['Star', 'Unknown'], dtype='<U7'),\n",
       "       array(['BlueSG', 'BlueSG*'], dtype='<U7'),\n",
       "       array(['GlCl', 'LMXB'], dtype='<U4'),\n",
       "       array(['GlCl', 'GlobCluster'], dtype='<U11'),\n",
       "       array(['GlCl', 'GlobCluster'], dtype='<U11'),\n",
       "       array(['GroupG', 'Seyfert2', 'Seyfert_2', 'Star'], dtype='<U9'),\n",
       "       array(['Cl*', 'Star', 'Unknown', 'WR*'], dtype='<U7'),\n",
       "       array(['GlCl', 'Unknown'], dtype='<U7'),\n",
       "       array(['GlCl', 'Unknown'], dtype='<U7'),\n",
       "       array(['GlCl', 'Nova'], dtype='<U4')], dtype=object)"
      ]
     },
     "execution_count": 87,
     "metadata": {},
     "output_type": "execute_result"
    }
   ],
   "source": [
    "data_misc['top_class'].values"
   ]
  },
  {
   "cell_type": "code",
   "execution_count": null,
   "id": "bbc4a910-1bc8-4ecb-a7c6-40bd98ebda0c",
   "metadata": {},
   "outputs": [],
   "source": []
  }
 ],
 "metadata": {
  "kernelspec": {
   "display_name": "Python 3 (ipykernel)",
   "language": "python",
   "name": "python3"
  },
  "language_info": {
   "codemirror_mode": {
    "name": "ipython",
    "version": 3
   },
   "file_extension": ".py",
   "mimetype": "text/x-python",
   "name": "python",
   "nbconvert_exporter": "python",
   "pygments_lexer": "ipython3",
   "version": "3.12.3"
  }
 },
 "nbformat": 4,
 "nbformat_minor": 5
}
