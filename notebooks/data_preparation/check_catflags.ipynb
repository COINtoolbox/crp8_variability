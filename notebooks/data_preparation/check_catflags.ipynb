{
 "cells": [
  {
   "cell_type": "code",
   "execution_count": 12,
   "id": "a1fa0a50",
   "metadata": {},
   "outputs": [
    {
     "name": "stdout",
     "output_type": "stream",
     "text": [
      "Requirement already satisfied: numpy in /media3/nakazono/crp8_variability/.venv/lib/python3.12/site-packages (2.3.3)\n"
     ]
    }
   ],
   "source": [
    "!pip install numpy"
   ]
  },
  {
   "cell_type": "code",
   "execution_count": 1,
   "id": "12064d25",
   "metadata": {},
   "outputs": [],
   "source": [
    "import pandas as pd\n",
    "import os\n",
    "import json\n",
    "import numpy as np\n",
    "import matplotlib.pyplot as plt"
   ]
  },
  {
   "cell_type": "code",
   "execution_count": 2,
   "id": "213f76db",
   "metadata": {},
   "outputs": [],
   "source": [
    "folder = \"/media3/CRP8/TDE/data/DR_photometry_full/extragalactic\""
   ]
  },
  {
   "cell_type": "code",
   "execution_count": 3,
   "id": "a538b0f2",
   "metadata": {},
   "outputs": [],
   "source": [
    "list_files = os.listdir(folder)"
   ]
  },
  {
   "cell_type": "code",
   "execution_count": 4,
   "id": "03e6d5a6",
   "metadata": {},
   "outputs": [],
   "source": [
    "df = pd.read_csv(os.path.join(folder, list_files[0]))"
   ]
  },
  {
   "cell_type": "code",
   "execution_count": 5,
   "id": "59ab6495",
   "metadata": {},
   "outputs": [
    {
     "data": {
      "text/plain": [
       "catflags\n",
       "0        2291\n",
       "32768     188\n",
       "33024       2\n",
       "1           1\n",
       "Name: count, dtype: int64"
      ]
     },
     "execution_count": 5,
     "metadata": {},
     "output_type": "execute_result"
    }
   ],
   "source": [
    "df.catflags.value_counts()"
   ]
  },
  {
   "cell_type": "code",
   "execution_count": 6,
   "id": "66d87fe6",
   "metadata": {},
   "outputs": [],
   "source": [
    "band_colors = {'g': 'green', 'r': 'blue', 'i': 'gold'}"
   ]
  },
  {
   "cell_type": "code",
   "execution_count": 7,
   "id": "cfc192bf",
   "metadata": {},
   "outputs": [
    {
     "data": {
      "text/plain": [
       "0       zg\n",
       "1       zg\n",
       "2       zg\n",
       "3       zg\n",
       "4       zg\n",
       "        ..\n",
       "2477    zr\n",
       "2478    zr\n",
       "2479    zr\n",
       "2480    zr\n",
       "2481    zr\n",
       "Name: filtercode, Length: 2482, dtype: object"
      ]
     },
     "execution_count": 7,
     "metadata": {},
     "output_type": "execute_result"
    }
   ],
   "source": [
    "df[\"filtercode\"]"
   ]
  },
  {
   "cell_type": "code",
   "execution_count": null,
   "id": "3426c6e8",
   "metadata": {},
   "outputs": [
    {
     "name": "stderr",
     "output_type": "stream",
     "text": [
      "/tmp/ipykernel_2300682/1139913072.py:33: UserWarning: No artists with labels found to put in legend.  Note that artists whose label start with an underscore are ignored when legend() is called with no argument.\n",
      "  plt.legend()\n"
     ]
    }
   ],
   "source": [
    "csv_files = [f for f in os.listdir(folder) if f.endswith('.csv')]\n",
    "band_colors = {'zg': 'green', 'zr': 'blue', 'zi': 'gold'}\n",
    "\n",
    "outdir = \"../../img/extragalactic_catflags\"\n",
    "os.makedirs(outdir, exist_ok=True)\n",
    "\n",
    "for file in csv_files:\n",
    "    df = pd.read_csv(os.path.join(folder, file))\n",
    "    required = {'catflags', 'mjd', 'mag', 'magerr', 'filtercode'}\n",
    "    if not required.issubset(df.columns):\n",
    "        print(f\"Skipping {file}: missing columns\")\n",
    "        continue\n",
    "\n",
    "    # Filter good and bad flags\n",
    "    df_good = df[df['catflags'] == 0]\n",
    "    df_bad = df[df['catflags'] != 0]\n",
    "\n",
    "    plt.figure(figsize=(8, 5))\n",
    "    # Plot each filtercode separately for good flags\n",
    "    for b in np.unique(df_good['filtercode']):\n",
    "        mask = df_good['filtercode'] == b\n",
    "        plt.errorbar(\n",
    "            df_good['mjd'][mask], df_good['mag'][mask], yerr=df_good['magerr'][mask],\n",
    "            fmt='o', ms=4, color=band_colors.get(b, 'black'), markeredgecolor='black', label=f\"{b}-band\"\n",
    "        )\n",
    "    # Plot bad flags as red stars\n",
    "    if not df_bad.empty:\n",
    "        plt.scatter(df_bad['mjd'], df_bad['mag'], color='red', marker='*', s=80, label='catflags!=0')\n",
    "    plt.gca().invert_yaxis()\n",
    "    plt.xlabel(\"MJD\")\n",
    "    plt.ylabel(\"Magnitude\")\n",
    "    plt.title(f\"Light Curve for {file}\")\n",
    "    plt.suptitle(f\"bad quality: {len(df_bad)} / total: {len(df)}\")\n",
    "    plt.legend()\n",
    "    plt.tight_layout()\n",
    "    plt.savefig(os.path.join(outdir, f\"{file.replace('.csv', '')}.png\"))\n",
    "    plt.close()"
   ]
  },
  {
   "cell_type": "code",
   "execution_count": null,
   "id": "3e778a35",
   "metadata": {},
   "outputs": [],
   "source": []
  }
 ],
 "metadata": {
  "kernelspec": {
   "display_name": ".venv",
   "language": "python",
   "name": "python3"
  },
  "language_info": {
   "codemirror_mode": {
    "name": "ipython",
    "version": 3
   },
   "file_extension": ".py",
   "mimetype": "text/x-python",
   "name": "python",
   "nbconvert_exporter": "python",
   "pygments_lexer": "ipython3",
   "version": "3.12.3"
  }
 },
 "nbformat": 4,
 "nbformat_minor": 5
}
