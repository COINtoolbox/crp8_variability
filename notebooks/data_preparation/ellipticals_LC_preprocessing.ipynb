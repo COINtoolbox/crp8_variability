{
 "cells": [
  {
   "cell_type": "code",
   "execution_count": 1,
   "id": "d36bb0e3-1fcb-47ea-93a1-e126195d130c",
   "metadata": {},
   "outputs": [],
   "source": [
    "import pandas as pd\n",
    "import glob\n",
    "import json\n",
    "import matplotlib.pyplot as plt\n",
    "import numpy as np"
   ]
  },
  {
   "cell_type": "markdown",
   "id": "6ec71a62-0e22-479b-a50c-ccb79b421c80",
   "metadata": {},
   "source": [
    "# Preprocessing light curves from the ellipticals Galaxy Catalogs"
   ]
  },
  {
   "cell_type": "code",
   "execution_count": null,
   "id": "6f32de38-8f22-43f9-93ac-bb041530ba96",
   "metadata": {},
   "outputs": [],
   "source": []
  }
 ],
 "metadata": {
  "kernelspec": {
   "display_name": "Python 3 (ipykernel)",
   "language": "python",
   "name": "python3"
  },
  "language_info": {
   "codemirror_mode": {
    "name": "ipython",
    "version": 3
   },
   "file_extension": ".py",
   "mimetype": "text/x-python",
   "name": "python",
   "nbconvert_exporter": "python",
   "pygments_lexer": "ipython3",
   "version": "3.12.3"
  }
 },
 "nbformat": 4,
 "nbformat_minor": 5
}
