{
 "cells": [
  {
   "cell_type": "code",
   "execution_count": 3,
   "id": "6292cca1-39d7-4399-b01d-9d26f142ca6e",
   "metadata": {},
   "outputs": [
    {
     "name": "stdout",
     "output_type": "stream",
     "text": [
      "Cluster labels: [1 0 0 0 0]\n",
      "Probabilities:\n",
      " [[0. 1.]\n",
      " [1. 0.]\n",
      " [1. 0.]\n",
      " [1. 0.]\n",
      " [1. 0.]]\n"
     ]
    }
   ],
   "source": [
    "from sklearn.mixture import GaussianMixture\n",
    "import numpy as np\n",
    "\n",
    "# Generate some sample data\n",
    "X = np.array([[186.45359802246094, 186.45359802246094], \n",
    "              [186.4535675048828, 33.54689407348633], \n",
    "              [186.4535675048828, 33.546897888183594],\n",
    "              [186.4535675048828, 33.54689407348633], [186.45359802246094, 33.54689025878906]])\n",
    "\n",
    "# Create a GMM instance with 2 components\n",
    "gmm = GaussianMixture(n_components=2, random_state=0)\n",
    "\n",
    "# Fit the GMM to the data\n",
    "gmm.fit(X)\n",
    "\n",
    "# Predict the cluster labels for the data\n",
    "labels = gmm.predict(X)\n",
    "print(\"Cluster labels:\", labels)\n",
    "\n",
    "# Get the probabilities of belonging to each cluster\n",
    "probabilities = gmm.predict_proba(X)\n",
    "print(\"Probabilities:\\n\", probabilities)"
   ]
  },
  {
   "cell_type": "code",
   "execution_count": null,
   "id": "bc9e8408-89ce-474b-a587-965de14f248f",
   "metadata": {},
   "outputs": [],
   "source": []
  }
 ],
 "metadata": {
  "kernelspec": {
   "display_name": "Python 3 (ipykernel)",
   "language": "python",
   "name": "python3"
  },
  "language_info": {
   "codemirror_mode": {
    "name": "ipython",
    "version": 3
   },
   "file_extension": ".py",
   "mimetype": "text/x-python",
   "name": "python",
   "nbconvert_exporter": "python",
   "pygments_lexer": "ipython3",
   "version": "3.12.3"
  }
 },
 "nbformat": 4,
 "nbformat_minor": 5
}
